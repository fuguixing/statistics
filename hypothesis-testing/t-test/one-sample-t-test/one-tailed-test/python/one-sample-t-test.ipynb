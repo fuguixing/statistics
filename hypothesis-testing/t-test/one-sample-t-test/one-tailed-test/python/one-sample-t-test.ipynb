{
 "cells": [
  {
   "cell_type": "markdown",
   "metadata": {},
   "source": [
    "# One sample t test\n",
    "\n",
    "## Case 1 two tailed t test\n",
    "\n",
    "Students' academic performance is related to the teaching methods of teachers. A teacher at a school adopted a new and effective teaching method. After one academic year of teaching, six students' test scores were randomly selected from the class taught by the teacher, which were 48.5, 49.0, 53.5, 49.5, 56.0, and 52.5, respectively. The score is 52.0. Try to analyze whether there is a significant difference in the scores of students who use this teaching method and those who do not use the new teaching method (known test results obey normal distribution, take α = 0.05)"
   ]
  },
  {
   "cell_type": "markdown",
   "metadata": {},
   "source": [
    "\n",
    "H0 : μ ＝ μ0\n",
    "<br/>\n",
    "H1 : μ ≠  μ0\n",
    "\n",
    "μ0 = 52.0, S = 2.98, $\\bar{X}$ = 51.5, n = 6\n",
    "\n",
    "t = $\\frac{\\bar{X}-\\mu_0}{S \\over \\sqrt n}$ = $\\frac{51.5-52}{2.98 \\over \\sqrt 6}$"
   ]
  },
  {
   "cell_type": "code",
   "execution_count": 1,
   "metadata": {},
   "outputs": [
    {
     "name": "stdout",
     "output_type": "stream",
     "text": [
      "-0.41098821187637213\n"
     ]
    }
   ],
   "source": [
    "import math\n",
    "t = (51.5 - 52) / (2.98/math.sqrt(6))\n",
    "print(t)"
   ]
  },
  {
   "cell_type": "markdown",
   "metadata": {},
   "source": [
    "\n",
    "α/2 = 0.025, look up table $t_{\\alpha/2}(5)$ = 2.571\n",
    "\n",
    "$\\lfloor t\\lfloor$ = $\\lfloor -0.41\\lfloor$ = 0.41 < 2.571, so accept H0"
   ]
  },
  {
   "cell_type": "markdown",
   "metadata": {},
   "source": [
    "## Case 2 one tailed t test\n",
    "\n",
    "An automobile manufacturer claims that the average life span of a tire of a certain grade is more than 40000 km under certain vehicle weight and normal driving conditions, for 120 wheels. The mean and standard deviation of the random samples were x = 41000 and S = 5000. The kilometers of the known tire life approximately follow the normal distribution. Does the manufacturer's product conform to the standard he said? (alpha =0.05)"
   ]
  },
  {
   "cell_type": "markdown",
   "metadata": {},
   "source": [
    "H0 : μ ≤ μ0\n",
    "<br/>\n",
    "H1 : μ > μ0\n",
    "\n",
    "μ0 = 40000, s = 5000, $\\bar{X}$ = 41000, n = 120\n",
    "\n",
    "t = $\\frac{\\bar{X}-\\mu_0}{s \\over \\sqrt n}$ = $\\frac{41000-40000}{5000 \\over \\sqrt 120}$\n"
   ]
  },
  {
   "cell_type": "code",
   "execution_count": 2,
   "metadata": {},
   "outputs": [
    {
     "name": "stdout",
     "output_type": "stream",
     "text": [
      "2.1908902300206643\n"
     ]
    }
   ],
   "source": [
    "import math\n",
    "t = (41000 - 40000) / (5000/math.sqrt(120))\n",
    "print(t)"
   ]
  },
  {
   "cell_type": "markdown",
   "metadata": {},
   "source": [
    "\n",
    "α = 0.05, look up table $t_{\\alpha}(119)$ = 1.658\n",
    "\n",
    "t = 2.19 > 1.658, so reject H0 and accept H1, we believe that the average life of tyres is significantly longer than 40000 km"
   ]
  },
  {
   "cell_type": "markdown",
   "metadata": {},
   "source": [
    "\n",
    "## Case 3 two tailed t test(the sample size is 168, approximate to z-test)\n",
    "\n",
    "The result of mathematics competition in a province shows that the distribution of scores is not normal, and the total average score is 43.5. Among them, 168 students participated in the competition in a county, x = 45.1, s = 18.7. Is there a significant difference between the average score of the county and that of the whole province? (α = 0.05)\n"
   ]
  },
  {
   "cell_type": "markdown",
   "metadata": {},
   "source": [
    "\n",
    "H0 : μ ＝ μ0\n",
    "<br/>\n",
    "H1 : μ ≠  μ0\n",
    "\n",
    "μ0 = 43.5, S = 18.7, $\\bar{X}$ = 45.1, n = 168\n",
    "\n",
    "t = $\\frac{\\bar{X}-\\mu_0}{S \\over \\sqrt n}$ = $\\frac{45.1-43.5}{18.7 \\over \\sqrt 168}$"
   ]
  },
  {
   "cell_type": "code",
   "execution_count": 4,
   "metadata": {},
   "outputs": [
    {
     "name": "stdout",
     "output_type": "stream",
     "text": [
      "1.1090037558772818\n"
     ]
    }
   ],
   "source": [
    "import math\n",
    "t = (45.1 - 43.5) / (18.7/math.sqrt(168))\n",
    "print(t)"
   ]
  },
  {
   "cell_type": "markdown",
   "metadata": {},
   "source": [
    "\n",
    "α = 0.05, look up table $t_{\\alpha/2}(167)$ = 1.97,  approximate to $Z_{\\alpha/2}$ = 1.96\n",
    "\n",
    "t = 1.109 < 1.97, so accept H0"
   ]
  },
  {
   "cell_type": "code",
   "execution_count": null,
   "metadata": {},
   "outputs": [],
   "source": []
  }
 ],
 "metadata": {
  "kernelspec": {
   "display_name": "conda_python3.6.3",
   "language": "python",
   "name": "conda_python3.6.3"
  },
  "language_info": {
   "codemirror_mode": {
    "name": "ipython",
    "version": 3
   },
   "file_extension": ".py",
   "mimetype": "text/x-python",
   "name": "python",
   "nbconvert_exporter": "python",
   "pygments_lexer": "ipython3",
   "version": "3.6.3"
  }
 },
 "nbformat": 4,
 "nbformat_minor": 2
}
