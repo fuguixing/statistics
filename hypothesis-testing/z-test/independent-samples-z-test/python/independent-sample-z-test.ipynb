{
 "cells": [
  {
   "cell_type": "markdown",
   "metadata": {},
   "source": [
    "# Independent sample z-test\n",
    "\n",
    "[Independent Two-sample z-test](http://facweb.cs.depaul.edu/sjost/csc423/documents/test-descriptions/indep-z.pdf \"Independent Two-sample z-test\")\n",
    "\n",
    "\n",
    "Assumptions\n",
    "\n",
    "• Experimental Design: The sample forms two independent treatment\n",
    "groups.\n",
    "\n",
    "• Null Hypothesis: The population means of the two treatment groups\n",
    "are not significantly different from each other.\n",
    "\n",
    "• Population Distribution: Arbitrary distribution within each treatment group.\n",
    "\n",
    "• Sample Size: Size of each treatment group is equal to or greater than\n",
    "30.\n",
    "\n",
    "\n",
    "## Case 1 two tailed z test\n",
    "\n",
    "Among the six-year-old children in a certain area, 30 boys were randomly selected, with an average height of 114cm. 27 girls were selected, with an average height of 112.5cm. According to previous data, the standard deviation of height of six-year-old boys and girls in this area is 5cm for boys and 5cm for girls 6.5cm, ask if there is any significant difference in height between boys and girls aged 6 in this area? (α = 0.05)"
   ]
  },
  {
   "cell_type": "markdown",
   "metadata": {},
   "source": [
    "\n",
    "H0 : ${\\mu_0}$ ＝ ${\\mu_1}$\n",
    "<br/>\n",
    "H1 : ${\\mu_0}$ $\\not=$ ${\\mu_1}$\n",
    "\n",
    "$\\bar{X_1}$ = 114, $\\bar{X_2}$ = 112, $\\sigma_1$ = 5, $\\sigma_2$ = 6.5, $n_1$ = 30, $n_1$ = 27\n",
    "\n",
    "z = $\\frac{\\bar{X_1}-\\bar{X_2}}{ \\sqrt{\\frac{ \\sigma_1^2}{n_1}+ \\frac{ \\sigma_2^2}{n_2}} }$ = $\\frac{114-112.5}{ \\sqrt{\\frac{ 5^2}{30}+ \\frac{ 6.5^2}{27}} }$"
   ]
  },
  {
   "cell_type": "code",
   "execution_count": 4,
   "metadata": {},
   "outputs": [
    {
     "name": "stdout",
     "output_type": "stream",
     "text": [
      "0.9686196045011365\n"
     ]
    }
   ],
   "source": [
    "import math\n",
    "z = (114 - 112.5) / math.sqrt((math.pow(5, 2)/30)+(math.pow(6.5, 2)/27))\n",
    "print(z)"
   ]
  },
  {
   "cell_type": "markdown",
   "metadata": {},
   "source": [
    "\n",
    "α/2 = 0.025, look up table $Z_{\\alpha/2}$ = 1.96\n",
    "\n",
    "z = 0.97 < 1.96, so accept H0, so there is no significant difference in height between boys and girls"
   ]
  },
  {
   "cell_type": "code",
   "execution_count": null,
   "metadata": {},
   "outputs": [],
   "source": []
  }
 ],
 "metadata": {
  "kernelspec": {
   "display_name": "conda_python3.6.3",
   "language": "python",
   "name": "conda_python3.6.3"
  },
  "language_info": {
   "codemirror_mode": {
    "name": "ipython",
    "version": 3
   },
   "file_extension": ".py",
   "mimetype": "text/x-python",
   "name": "python",
   "nbconvert_exporter": "python",
   "pygments_lexer": "ipython3",
   "version": "3.6.3"
  }
 },
 "nbformat": 4,
 "nbformat_minor": 2
}
