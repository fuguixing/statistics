{
 "cells": [
  {
   "cell_type": "markdown",
   "metadata": {},
   "source": [
    "# Independent sample t-test\n",
    "\n",
    "The independent samples t-test is a test that compares two groups on the mean value of a continuous (i.e., interval or ratio), normally distributed variable.  The model assumes that a difference in the mean score of the dependent variable is found because of the influence of the independent variable that distinguishes the two groups.\n",
    "\n",
    "## Case 1 two tailed t test\n",
    "\n",
    "In a school, 19 students took part in an intelligence speed test, including 12 boys and 7 girls. There are 200 questions in the test. If you answer one question correctly within the specified time, you will get 1 point. After the test, you will get the following test results\n",
    "\n",
    "12 boys: 83, 146, 119, 104, 120, 161, 134, 115, 129, 99, 123\n",
    "\n",
    "7 girls: 70, 118, 101, 85, 107, 132, 94\n",
    "\n",
    "Try to determine whether there is significant difference between the average scores of male and female students (take α = 0.05)\n"
   ]
  },
  {
   "cell_type": "markdown",
   "metadata": {},
   "source": [
    "\n",
    "H0 : ${\\mu_1}$ $=$ ${\\mu_2}$\n",
    "<br/>\n",
    "H1 : ${\\mu_1}$ $\\not=$  ${\\mu_2}$\n",
    "\n",
    "$\\bar{X_1}$ = 120, $\\bar{X_2}$ = 101, $s_1^2$ = 445.82, $s_2^2$ = 425.33, $n_1$ = 12, $n_2$ = 7\n",
    "\n",
    "z = $\\frac{\\bar{X_1}-\\bar{X_2}}{ \\sqrt{\\frac{ (n_1 - 1)\t\\times s_1^2 + (n_2 - 1) \\times s_2^2}{n_1 + n_2 -2} \\left(\\frac{1}{n_1} + \\frac{1}{n_2}  \\right) }}$ = $\\frac{120-101}{ \\sqrt{\\frac{ (12 - 1)\t\\times 445.82 + (7 - 1) \\times 425.33}{12 + 7 -2} \\left(\\frac{1}{12} + \\frac{1}{7}  \\right) }}$ "
   ]
  },
  {
   "cell_type": "code",
   "execution_count": 2,
   "metadata": {},
   "outputs": [
    {
     "name": "stdout",
     "output_type": "stream",
     "text": [
      "1.9076028144910244\n"
     ]
    }
   ],
   "source": [
    "import math\n",
    "z = (120 - 101) / math.sqrt((((12-1)*445.82+(7-1)*425.33)/(12+7-2))*(1/12+1/7))\n",
    "print(z)"
   ]
  },
  {
   "cell_type": "markdown",
   "metadata": {},
   "source": [
    "\n",
    "α = 0.05, $\\alpha/2$ = 0.025, look up table $t_{\\alpha/2}(17)$ = 2.11\n",
    "\n",
    "t = 1.91 < 2.11, so accept H0, there is no significant difference in test scores between male and female students"
   ]
  },
  {
   "cell_type": "markdown",
   "metadata": {},
   "source": [
    "\n",
    "In practice, we should test the homogeneity of variance\n",
    "\n",
    "$F_{0.05/2}$(11,6) = 5.41\n",
    "\n",
    "F=$\\frac{s_1^2}{s_2^2}$ = 445.82/425.33=1.048 < 5.41\n"
   ]
  },
  {
   "cell_type": "code",
   "execution_count": null,
   "metadata": {},
   "outputs": [],
   "source": []
  }
 ],
 "metadata": {
  "kernelspec": {
   "display_name": "conda_python3.6.3",
   "language": "python",
   "name": "conda_python3.6.3"
  },
  "language_info": {
   "codemirror_mode": {
    "name": "ipython",
    "version": 3
   },
   "file_extension": ".py",
   "mimetype": "text/x-python",
   "name": "python",
   "nbconvert_exporter": "python",
   "pygments_lexer": "ipython3",
   "version": "3.6.3"
  }
 },
 "nbformat": 4,
 "nbformat_minor": 2
}
