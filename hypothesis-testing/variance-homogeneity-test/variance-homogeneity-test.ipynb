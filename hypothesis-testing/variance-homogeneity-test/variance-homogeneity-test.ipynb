{
 "cells": [
  {
   "cell_type": "markdown",
   "metadata": {},
   "source": [
    "# variance homogeneity test\n",
    "\n",
    "\n",
    "## Case 1 two tailed test\n",
    "\n",
    "After a teaching reform experiment, 10 and 9 papers were randomly selected from the classes with two different teaching methods, and the following results were obtained:\n",
    "\n",
    "Test class: 85, 76, 83, 93, 78, 75, 80, 79, 90, 88\n",
    "\n",
    "Comparison class: 75, 86, 96, 90, 62, 83, 95, 70, 58\n",
    "\n",
    "To compare the effect of the test, first check whether the variance is homogeneous, so as to select the appropriate test method (α = 0.05)\n"
   ]
  },
  {
   "cell_type": "markdown",
   "metadata": {},
   "source": [
    "\n",
    "H0 : ${\\sigma_1}^2$ $=$ ${\\sigma_2}^2$\n",
    "\n",
    "${S_1}^2$ = 194.5, ${S_2}^2$ = 37.8\n",
    "\n",
    "F = $\\frac{{S_1}^2}{{S_2}^2}$ = $\\frac{{194.5}}{{37.8}}$"
   ]
  },
  {
   "cell_type": "code",
   "execution_count": 2,
   "metadata": {},
   "outputs": [
    {
     "name": "stdout",
     "output_type": "stream",
     "text": [
      "5.145502645502646\n"
     ]
    }
   ],
   "source": [
    "import math\n",
    "F = 194.5/37.8\n",
    "print(F)"
   ]
  },
  {
   "cell_type": "markdown",
   "metadata": {},
   "source": [
    "\n",
    "${F_{0.05/2}}(8,9)$ = 4.10\n",
    "\n",
    "F=5.15 > 4.10\n",
    "\n",
    "Therefore, there is a significant difference in the variance between the two classes\n"
   ]
  },
  {
   "cell_type": "markdown",
   "metadata": {},
   "source": [
    "\n",
    "## Case 2 two tailed test\n",
    "\n",
    "41 boys and 31 girls were randomly selected for the test. The standard deviation of male and female samples was 7 and 6 respectively. Are there any significant differences in the test results of boys and girls? (alpha =0.05)\n"
   ]
  },
  {
   "cell_type": "markdown",
   "metadata": {},
   "source": [
    "\n",
    "H0 : ${\\sigma_1}^2$ $=$ ${\\sigma_2}^2$\n",
    "\n",
    "${S_1}^2$ = 49, ${S_2}^2$ = 36\n",
    "\n",
    "F = $\\frac{{S_1}^2}{{S_2}^2}$ = $\\frac{{49}}{{36}}$"
   ]
  },
  {
   "cell_type": "code",
   "execution_count": 3,
   "metadata": {},
   "outputs": [
    {
     "name": "stdout",
     "output_type": "stream",
     "text": [
      "1.3611111111111112\n"
     ]
    }
   ],
   "source": [
    "import math\n",
    "F = 49/36\n",
    "print(F)"
   ]
  },
  {
   "cell_type": "markdown",
   "metadata": {},
   "source": [
    "\n",
    "${F_{0.05/2}}(40,30)$ = 2.01\n",
    "\n",
    "F=1.36 < 2.01\n",
    "\n",
    "Therefore, there is no significant difference in the variance of male and female performance\n"
   ]
  },
  {
   "cell_type": "code",
   "execution_count": null,
   "metadata": {},
   "outputs": [],
   "source": []
  }
 ],
 "metadata": {
  "kernelspec": {
   "display_name": "conda_python3.6.3",
   "language": "python",
   "name": "conda_python3.6.3"
  },
  "language_info": {
   "codemirror_mode": {
    "name": "ipython",
    "version": 3
   },
   "file_extension": ".py",
   "mimetype": "text/x-python",
   "name": "python",
   "nbconvert_exporter": "python",
   "pygments_lexer": "ipython3",
   "version": "3.6.3"
  }
 },
 "nbformat": 4,
 "nbformat_minor": 2
}
