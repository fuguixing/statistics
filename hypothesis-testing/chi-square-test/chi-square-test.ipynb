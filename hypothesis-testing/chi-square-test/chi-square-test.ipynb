{
 "cells": [
  {
   "cell_type": "markdown",
   "metadata": {},
   "source": [
    "# chi-square test\n",
    "\n",
    "\n",
    "## Case\n",
    "\n",
    "In the unified examination of the whole district, the total variance of all students is 182, while the variance of 51 students in a school is 122. Is there any significant difference between the variance of students' performance and that of the whole district? (take α = 0.05)\n"
   ]
  },
  {
   "cell_type": "markdown",
   "metadata": {},
   "source": [
    "\n",
    "n=51, $S^2$=$12^2$, ${\\sigma^2}$=$18^2$\n",
    "\n",
    "${X^2}$ = $\\frac{(n-1) {S^2}}{\\sigma^2}$\n",
    "\n",
    "${X^2}$ = $\\frac{(51-1) {12^2}}{18^2}$\n"
   ]
  },
  {
   "cell_type": "code",
   "execution_count": 2,
   "metadata": {},
   "outputs": [
    {
     "name": "stdout",
     "output_type": "stream",
     "text": [
      "22.22222222222222\n"
     ]
    }
   ],
   "source": [
    "import math\n",
    "x = (51-1)*math.pow(12, 2)/math.pow(18, 2)\n",
    "print(x)"
   ]
  },
  {
   "cell_type": "markdown",
   "metadata": {},
   "source": [
    "${X^2}$ = 22.22\n",
    "\n",
    "${X_{0.025}^2(50)}$ = 71.4\n",
    "\n",
    "${X_{0.975}^2(50)}$ = 32.4\n",
    " \n",
    "${X^2}$ < ${X_{0.975}^2(50)}$\n",
    "\n",
    "Therefore, the variance of the whole city is significantly different from that of the school"
   ]
  },
  {
   "cell_type": "code",
   "execution_count": null,
   "metadata": {},
   "outputs": [],
   "source": []
  },
  {
   "cell_type": "code",
   "execution_count": null,
   "metadata": {},
   "outputs": [],
   "source": []
  }
 ],
 "metadata": {
  "kernelspec": {
   "display_name": "conda_python3.6.3",
   "language": "python",
   "name": "conda_python3.6.3"
  },
  "language_info": {
   "codemirror_mode": {
    "name": "ipython",
    "version": 3
   },
   "file_extension": ".py",
   "mimetype": "text/x-python",
   "name": "python",
   "nbconvert_exporter": "python",
   "pygments_lexer": "ipython3",
   "version": "3.6.3"
  }
 },
 "nbformat": 4,
 "nbformat_minor": 2
}
