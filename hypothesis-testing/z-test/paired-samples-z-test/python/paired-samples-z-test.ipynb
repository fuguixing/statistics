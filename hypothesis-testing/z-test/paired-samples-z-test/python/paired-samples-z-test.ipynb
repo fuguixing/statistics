{
 "cells": [
  {
   "cell_type": "markdown",
   "metadata": {},
   "source": [
    "# Paired sample z-test\n",
    "\n",
    "[Paired-sample z-test](http://facweb.cs.depaul.edu/sjost/csc423/documents/test-descriptions/paired-z.pdf \"Paired-sample z-test\")\n",
    "\n",
    "Assumptions\n",
    "\n",
    "• Experimental Design: The sample forms two treatment groups,\n",
    "where each subject in one group is paired with a subject in the other\n",
    "group.\n",
    "\n",
    "• Null Hypothesis: The average of the pair differences is not significantly different than zero.\n",
    "\n",
    "• Population Distribution: Arbitrary.\n",
    "\n",
    "• Sample Size: The sample size of each treatment group is greater than\n",
    "or equal to 30\n",
    "\n",
    "\n",
    "## Case 1 one tailed z test\n",
    "\n",
    "In a kindergarten, 49 children were tested with Binet intelligence test (σ = 16) when they entered the kindergarten. The average intelligence quotient was X1 = 106. One year later, the same group of subjects were tested again. The result was x2 = 110. The correlation coefficient of the two test results was known to be r = 0.74. Can you say that the children's intelligence quotient increased significantly with the age and one year's education. (alpha =0.01)"
   ]
  },
  {
   "cell_type": "markdown",
   "metadata": {},
   "source": [
    "\n",
    "H0 : ${\\mu_1}$ $\\geq$ ${\\mu_2}$\n",
    "<br/>\n",
    "H1 : ${\\mu_1}$ \t$<$ ${\\mu_2}$\n",
    "\n",
    "$\\bar{X_1}$ = 106, $\\bar{X_2}$ = 110, $\\sigma_1$ = 16, $\\sigma_2$ = 16, $n$ = 49, $\\rho$ = 0.74\n",
    "\n",
    "z = $\\frac{\\bar{X_1}-\\bar{X_2}}{ \\sqrt{\\frac{ \\sigma_1^2 + \\sigma_2^2 - 2*\\rho*\\sigma_1*\\sigma_2}{n}}}$ = $\\frac{106-110}{ \\sqrt{\\frac{ 16^2 + 16^2 - 2*0.74*16*16}{49}}}$\n"
   ]
  },
  {
   "cell_type": "code",
   "execution_count": 1,
   "metadata": {},
   "outputs": [
    {
     "name": "stdout",
     "output_type": "stream",
     "text": [
      "-2.426813358485377\n"
     ]
    }
   ],
   "source": [
    "import math\n",
    "z = (106 - 110) / math.sqrt((math.pow(16, 2) + math.pow(16, 2) - 2*0.74*16*16)/49)\n",
    "print(z)"
   ]
  },
  {
   "cell_type": "markdown",
   "metadata": {},
   "source": [
    "\n",
    "α = 0.01, look up table $Z_{\\alpha}$ = 2.33\n",
    "\n",
    "$\\lfloor z \\lfloor$ = 2.43 > 2.33, so reject H0 and accept H1, we think that children's IQ has improved significantly after one year"
   ]
  },
  {
   "cell_type": "code",
   "execution_count": null,
   "metadata": {},
   "outputs": [],
   "source": []
  }
 ],
 "metadata": {
  "kernelspec": {
   "display_name": "conda_python3.6.3",
   "language": "python",
   "name": "conda_python3.6.3"
  },
  "language_info": {
   "codemirror_mode": {
    "name": "ipython",
    "version": 3
   },
   "file_extension": ".py",
   "mimetype": "text/x-python",
   "name": "python",
   "nbconvert_exporter": "python",
   "pygments_lexer": "ipython3",
   "version": "3.6.3"
  }
 },
 "nbformat": 4,
 "nbformat_minor": 2
}
