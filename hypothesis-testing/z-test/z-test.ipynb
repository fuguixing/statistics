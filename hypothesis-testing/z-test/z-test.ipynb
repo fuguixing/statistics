{
 "cells": [
  {
   "cell_type": "markdown",
   "metadata": {},
   "source": [
    "# z-test\n",
    "\n",
    "## Case 1 two tailed test\n",
    "\n",
    "The average score of mathematics in the unified examination of the whole city is μ0 = 62, and the standard deviation is σ0 = 10.2. The average score of 90 students in a school is 68. Is the school's performance significantly different from the city's average. (take α = 0.05)"
   ]
  },
  {
   "cell_type": "markdown",
   "metadata": {},
   "source": [
    "\n",
    "H0 : μ ＝ 62\n",
    "<br/>\n",
    "H1 : μ ≠ 62\n",
    "\n",
    "μ0 = 62, σ0 = 10.2, $\\bar{X}$ = 68, n = 90\n",
    "\n",
    "Z = ${\\bar{X}-μ0\\over σ0 / \\sqrt n}$ = ${68-62\\over 10.2 / \\sqrt 90}$\n",
    "\n"
   ]
  },
  {
   "cell_type": "code",
   "execution_count": 5,
   "metadata": {},
   "outputs": [
    {
     "name": "stdout",
     "output_type": "stream",
     "text": [
      "5.580489988532435\n"
     ]
    }
   ],
   "source": [
    "import math\n",
    "Z = (68 - 62) / (10.2/math.sqrt(90))\n",
    "print(Z)"
   ]
  },
  {
   "cell_type": "markdown",
   "metadata": {},
   "source": [
    "\n",
    "α/2 = 0.025, look up table $Z_{α/2}$ = 1.96\n",
    "\n",
    "Z = 5.58 > 1.96, so reject H0"
   ]
  },
  {
   "cell_type": "markdown",
   "metadata": {},
   "source": [
    "******"
   ]
  },
  {
   "cell_type": "markdown",
   "metadata": {},
   "source": [
    "## Case 2 one tailed test\n",
    "\n",
    "Some people investigated the influence of early education on children's intellectual development. 70 children were randomly selected from the well-educated children to take the Wechsler children's intelligence test (μ0 = 100, σ0 = 15) results $\\bar{X}$ = 103.3. Can we think that the intelligence of children with good early education is higher than the general level."
   ]
  },
  {
   "cell_type": "markdown",
   "metadata": {},
   "source": [
    "H0 : μ ≤ μ0\n",
    "<br/>\n",
    "H1 : μ > μ0\n",
    "\n",
    "μ0 = 100, σ0 = 15, $\\bar{X}$ = 103.3, n = 70\n",
    "\n",
    "Z = ${\\bar{X}-μ0\\over σ0 / \\sqrt n}$ = ${103.3-100\\over 15 / \\sqrt 70}$\n"
   ]
  },
  {
   "cell_type": "code",
   "execution_count": 7,
   "metadata": {},
   "outputs": [
    {
     "name": "stdout",
     "output_type": "stream",
     "text": [
      "1.8406520583749646\n"
     ]
    }
   ],
   "source": [
    "import math\n",
    "Z = (103.3 - 100) / (15/math.sqrt(70))\n",
    "print(Z)"
   ]
  },
  {
   "cell_type": "markdown",
   "metadata": {},
   "source": [
    "\n",
    "α = 0.05, look up table $Z_{α}$ = 1.645\n",
    "\n",
    "Z = 1.84 > 1.645, so reject H0"
   ]
  },
  {
   "cell_type": "code",
   "execution_count": null,
   "metadata": {},
   "outputs": [],
   "source": []
  }
 ],
 "metadata": {
  "kernelspec": {
   "display_name": "conda_python3.6.3",
   "language": "python",
   "name": "conda_python3.6.3"
  },
  "language_info": {
   "codemirror_mode": {
    "name": "ipython",
    "version": 3
   },
   "file_extension": ".py",
   "mimetype": "text/x-python",
   "name": "python",
   "nbconvert_exporter": "python",
   "pygments_lexer": "ipython3",
   "version": "3.6.3"
  }
 },
 "nbformat": 4,
 "nbformat_minor": 2
}
